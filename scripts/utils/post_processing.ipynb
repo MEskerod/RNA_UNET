{
 "cells": [
  {
   "cell_type": "code",
   "execution_count": 50,
   "metadata": {},
   "outputs": [],
   "source": [
    "import numpy as np\n",
    "import torch"
   ]
  },
  {
   "cell_type": "code",
   "execution_count": 82,
   "metadata": {},
   "outputs": [],
   "source": [
    "probability_matrix = np.array([\n",
    "    [0.2, 0, 0, 0.4, 0, 0, 0.8],\n",
    "    [0, 0.1, 0, 0, 0, 0.95, 0],\n",
    "    [0.3, 0, 0.99, 0, 0, 0, 0],\n",
    "    [0, 0, 0, 0.7, 0, 0, 0],\n",
    "    [0, 0, 0, 0, 0.65, 0, 0],\n",
    "    [0, 0.78, 0, 0, 0, 0, 0],\n",
    "    [0, 0, 0, 0, 0, 0, 0]\n",
    "])"
   ]
  },
  {
   "cell_type": "code",
   "execution_count": 102,
   "metadata": {},
   "outputs": [],
   "source": [
    "def matrix_argmax(matrix): \n",
    "    N = matrix.shape[0]\n",
    "    assert N == matrix.shape[1]\n",
    "    \n",
    "    matrix = (matrix + matrix.T) / 2\n",
    "\n",
    "    mat = np.zeros_like(matrix)\n",
    "    non_zero_rows = np.any(matrix != 0, axis=1)\n",
    "    indices =  np.argmax(matrix[non_zero_rows, :], axis=1)\n",
    "    mat[non_zero_rows, indices] = matrix[non_zero_rows, indices]\n",
    "\n",
    "    non_zero_columns = np.any(mat != 0, axis=0)\n",
    "    indices = np.argmax(mat[:, non_zero_columns], axis=0)\n",
    "    mat = np.zeros_like(matrix)\n",
    "    mat[indices, non_zero_columns] = 1\n",
    "    \n",
    "    \n",
    "    for i in range(N): \n",
    "        if not np.any(mat[i, :]) and not np.any(mat[:, i]): \n",
    "            mat[i, i] = 1\n",
    "\n",
    "    assert np.any(mat[i, :]) and np.any(mat[:, i])\n",
    "    \n",
    "    return mat"
   ]
  },
  {
   "cell_type": "code",
   "execution_count": 103,
   "metadata": {},
   "outputs": [
    {
     "data": {
      "text/plain": [
       "array([[1., 0., 0., 0., 0., 0., 0.],\n",
       "       [0., 0., 0., 0., 0., 1., 0.],\n",
       "       [0., 0., 1., 0., 0., 0., 0.],\n",
       "       [0., 0., 0., 1., 0., 0., 0.],\n",
       "       [0., 0., 0., 0., 1., 0., 0.],\n",
       "       [0., 1., 0., 0., 0., 0., 0.],\n",
       "       [0., 0., 0., 0., 0., 0., 1.]])"
      ]
     },
     "execution_count": 103,
     "metadata": {},
     "output_type": "execute_result"
    }
   ],
   "source": [
    "matrix_argmax(probability_matrix)"
   ]
  },
  {
   "cell_type": "code",
   "execution_count": 75,
   "metadata": {},
   "outputs": [
    {
     "data": {
      "text/plain": [
       "array([2, 2], dtype=int64)"
      ]
     },
     "execution_count": 75,
     "metadata": {},
     "output_type": "execute_result"
    }
   ],
   "source": [
    "m = np.array([[1, 2, 3],\n",
    "              [4, 5, 6]])\n",
    "\n",
    "np.argmax(m, axis=1)"
   ]
  }
 ],
 "metadata": {
  "kernelspec": {
   "display_name": "Python 3",
   "language": "python",
   "name": "python3"
  },
  "language_info": {
   "codemirror_mode": {
    "name": "ipython",
    "version": 3
   },
   "file_extension": ".py",
   "mimetype": "text/x-python",
   "name": "python",
   "nbconvert_exporter": "python",
   "pygments_lexer": "ipython3",
   "version": "3.10.0"
  }
 },
 "nbformat": 4,
 "nbformat_minor": 2
}
